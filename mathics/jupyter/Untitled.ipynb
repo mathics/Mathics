{
 "cells": [
  {
   "cell_type": "code",
   "execution_count": 1,
   "metadata": {
    "collapsed": false
   },
   "outputs": [
    {
     "data": {
      "text/latex": [
       "$4$"
      ],
      "text/plain": [
       "<IPython.core.display.Latex object>"
      ]
     },
     "metadata": {},
     "output_type": "display_data"
    },
    {
     "data": {
      "text/plain": [
       "4"
      ]
     },
     "execution_count": 1,
     "metadata": {},
     "output_type": "execute_result"
    }
   ],
   "source": [
    "2+2"
   ]
  },
  {
   "cell_type": "code",
   "execution_count": 1,
   "metadata": {
    "collapsed": false
   },
   "outputs": [
    {
     "data": {
      "text/latex": [
       "$\\text{Hola Mundo}$"
      ],
      "text/plain": [
       "<IPython.core.display.Latex object>"
      ]
     },
     "metadata": {},
     "output_type": "display_data"
    },
    {
     "data": {
      "text/plain": [
       "\"Hola Mundo\""
      ]
     },
     "execution_count": 1,
     "metadata": {},
     "output_type": "execute_result"
    }
   ],
   "source": [
    "\"Hola\"<>\" \"<>\"Mundo\""
   ]
  },
  {
   "cell_type": "code",
   "execution_count": 2,
   "metadata": {
    "collapsed": false
   },
   "outputs": [
    {
     "data": {
      "text/latex": [
       "$\\text{Lim}\\left[\\frac{F\\left[x\\right]}{x},x\\text{->}\\infty \\right]$"
      ],
      "text/plain": [
       "<IPython.core.display.Latex object>"
      ]
     },
     "metadata": {},
     "output_type": "display_data"
    },
    {
     "data": {
      "text/plain": [
       "Lim[F[x] / x, x -> Infinity]"
      ]
     },
     "execution_count": 2,
     "metadata": {},
     "output_type": "execute_result"
    }
   ],
   "source": [
    "Lim[F[x]/x,x->Infinity]"
   ]
  },
  {
   "cell_type": "code",
   "execution_count": 3,
   "metadata": {
    "collapsed": false
   },
   "outputs": [
    {
     "data": {
      "text/latex": [
       "$F^{\\left(1,0\\right)}\\left[x,y\\right]$"
      ],
      "text/plain": [
       "<IPython.core.display.Latex object>"
      ]
     },
     "metadata": {},
     "output_type": "display_data"
    },
    {
     "data": {
      "text/plain": [
       "Derivative[1, 0][F][x, y]"
      ]
     },
     "execution_count": 3,
     "metadata": {},
     "output_type": "execute_result"
    }
   ],
   "source": [
    "D[F[x,y],x]"
   ]
  },
  {
   "cell_type": "code",
   "execution_count": 4,
   "metadata": {
    "collapsed": false
   },
   "outputs": [
    {
     "data": {
      "text/latex": [
       "$\\intF\\left[x\\right] \\, dx$"
      ],
      "text/plain": [
       "<IPython.core.display.Latex object>"
      ]
     },
     "metadata": {},
     "output_type": "display_data"
    },
    {
     "data": {
      "text/plain": [
       "Integrate[F[x], x]"
      ]
     },
     "execution_count": 4,
     "metadata": {},
     "output_type": "execute_result"
    }
   ],
   "source": [
    "Integrate[F[x],x]"
   ]
  },
  {
   "cell_type": "code",
   "execution_count": 5,
   "metadata": {
    "collapsed": false
   },
   "outputs": [
    {
     "data": {
      "text/latex": [
       "$\\text{Series}\\left[E^{-x},\\left\\{x,0,5\\right\\}\\right]$"
      ],
      "text/plain": [
       "<IPython.core.display.Latex object>"
      ]
     },
     "metadata": {},
     "output_type": "display_data"
    },
    {
     "data": {
      "text/plain": [
       "Series[E^(-x), {x, 0, 5}]"
      ]
     },
     "execution_count": 5,
     "metadata": {},
     "output_type": "execute_result"
    }
   ],
   "source": [
    "Series[Exp[-x],{x,0,5}]"
   ]
  },
  {
   "cell_type": "code",
   "execution_count": 6,
   "metadata": {
    "collapsed": false
   },
   "outputs": [
    {
     "data": {
      "text/latex": [
       "$\\left\\{1,2,3,4,5,6,7,8,9,10,11,12,13,14,15,16,17,18,19,20\\right\\}$"
      ],
      "text/plain": [
       "<IPython.core.display.Latex object>"
      ]
     },
     "metadata": {},
     "output_type": "display_data"
    },
    {
     "data": {
      "text/plain": [
       "{1, 2, 3, 4, 5, 6, 7, 8, 9, 10, 11, 12, 13, 14, 15, 16, 17, 18, 19, 20}"
      ]
     },
     "execution_count": 6,
     "metadata": {},
     "output_type": "execute_result"
    }
   ],
   "source": [
    "Table[i,{i,20}]"
   ]
  },
  {
   "cell_type": "code",
   "execution_count": 7,
   "metadata": {
    "collapsed": false
   },
   "outputs": [
    {
     "data": {
      "text/latex": [
       "$\\left(\\begin{array}{ccc} 1 & \\frac{1}{2} & \\frac{1}{3}\\\\ 2 & 1 & \\frac{2}{3}\\\\ 3 & \\frac{3}{2} & 1\\end{array}\\right)$"
      ],
      "text/plain": [
       "<IPython.core.display.Latex object>"
      ]
     },
     "metadata": {},
     "output_type": "display_data"
    },
    {
     "data": {
      "text/plain": [
       "MatrixForm[{{1, 1 / 2, 1 / 3}, {2, 1, 2 / 3}, {3, 3 / 2, 1}}]"
      ]
     },
     "execution_count": 7,
     "metadata": {},
     "output_type": "execute_result"
    }
   ],
   "source": [
    "MatrixForm[Table[i/j,{i,3},{j,3}]]"
   ]
  },
  {
   "cell_type": "code",
   "execution_count": 8,
   "metadata": {
    "collapsed": false
   },
   "outputs": [
    {
     "data": {
      "image/svg+xml": [
       "<svg height=\"247.213595\" version=\"1.0\" viewBox=\"-17.666667 -14.610939 435.333333 279.254219\" width=\"400.000000\" xmlns=\"http://www.w3.org/2000/svg\" xmlns:svg=\"http://www.w3.org/2000/svg\"><polyline points=\"0.000000,235.976614 1.785714,235.971797 3.571429,235.957346 5.357143,235.933261 7.142857,235.899543 10.714286,235.803204 12.500000,235.740583 14.285714,235.668329 17.857143,235.494919 19.642857,235.393763 21.428571,235.282973 25.000000,235.032492 26.785714,234.892800 28.571429,234.743475 32.142857,234.415922 33.928571,234.237695 35.714286,234.049834 39.285714,233.645210 41.071429,233.428447 42.857143,233.202051 46.428571,232.720355 48.214286,232.465057 50.000000,232.200125 53.571429,231.641359 55.357143,231.347525 57.142857,231.044057 60.714286,230.408219 62.500000,230.075850 64.285714,229.733846 67.857143,229.020938 69.642857,228.650033 71.428571,228.269493 75.000000,227.479514 76.785714,227.070073 78.571429,226.650998 82.142857,225.783947 83.928571,225.335971 85.714286,224.878360 89.285714,223.934238 91.071429,223.447726 92.857143,222.951580 96.428571,221.930387 98.214286,221.405339 100.000000,220.870658 103.571429,219.772393 105.357143,219.208810 107.142857,218.635593 110.714286,217.460257 112.500000,216.858138 114.285714,216.246386 117.857143,214.993978 119.642857,214.353324 121.428571,213.703036 125.000000,212.373558 126.785714,211.694368 128.571429,211.005544 132.142857,209.598994 133.928571,208.881269 135.714286,208.153909 139.285714,206.670288 141.071429,205.914027 142.857143,205.148132 146.428571,203.587440 150.000000,201.988213 153.571429,200.350450 157.142857,198.674151 160.714286,196.959317 164.285714,195.205947 167.857143,193.414041 171.428571,191.583600 175.000000,189.714623 178.571429,187.807111 182.142857,185.861063 185.714286,183.876480 189.285714,181.853361 192.857143,179.791706 196.428571,177.691515 200.000000,175.552790 203.571429,173.375528 207.142857,171.159731 214.285714,166.612530 221.428571,161.911186 228.571429,157.055700 235.714286,152.046072 242.857143,146.882302 250.000000,141.564388 257.142857,136.092333 264.285714,130.466135 271.428571,124.685795 278.571429,118.751312 285.714286,112.662687 292.857143,106.419919 300.000000,100.023009 307.142857,93.471957 314.285714,86.766762 321.428571,79.907425 328.571429,72.893945 335.714286,65.726323 342.857143,58.404559 350.000000,50.928652 357.142857,43.298603 364.285714,35.514411 371.428571,27.576077 378.571429,19.483600 385.714286,11.236982 392.857143,2.836220 400.000000,-5.718683\" style=\"stroke: rgb(24.720000%, 24.000000%, 60.000000%); stroke-opacity: 1; stroke-width: 0.666667px; fill: none\"/>\n",
       "<polyline points=\"-16.000000,235.976614 416.000000,235.976614\" style=\"stroke: rgb(0.000000%, 0.000000%, 0.000000%); stroke-opacity: 1; stroke-width: 0.666667px; fill: none\"/>\n",
       "<foreignObject ox=\"0.000000\" oy=\"1.000000\" style=\"stroke: none; fill: none; color: rgb(0.000000%, 0.000000%, 0.000000%)\" x=\"66.666667\" y=\"238.643281\"><math><mn>0.5</mn></math></foreignObject>\n",
       "<foreignObject ox=\"0.000000\" oy=\"1.000000\" style=\"stroke: none; fill: none; color: rgb(0.000000%, 0.000000%, 0.000000%)\" x=\"133.333333\" y=\"238.643281\"><math><mn>1.</mn></math></foreignObject>\n",
       "<foreignObject ox=\"0.000000\" oy=\"1.000000\" style=\"stroke: none; fill: none; color: rgb(0.000000%, 0.000000%, 0.000000%)\" x=\"200.000000\" y=\"238.643281\"><math><mn>1.5</mn></math></foreignObject>\n",
       "<foreignObject ox=\"0.000000\" oy=\"1.000000\" style=\"stroke: none; fill: none; color: rgb(0.000000%, 0.000000%, 0.000000%)\" x=\"266.666667\" y=\"238.643281\"><math><mn>2.</mn></math></foreignObject>\n",
       "<foreignObject ox=\"0.000000\" oy=\"1.000000\" style=\"stroke: none; fill: none; color: rgb(0.000000%, 0.000000%, 0.000000%)\" x=\"333.333333\" y=\"238.643281\"><math><mn>2.5</mn></math></foreignObject>\n",
       "<foreignObject ox=\"0.000000\" oy=\"1.000000\" style=\"stroke: none; fill: none; color: rgb(0.000000%, 0.000000%, 0.000000%)\" x=\"400.000000\" y=\"238.643281\"><math><mn>3.</mn></math></foreignObject>\n",
       "<polyline points=\"66.666667,235.976614 66.666667,229.309947\" style=\"stroke: rgb(0.000000%, 0.000000%, 0.000000%); stroke-opacity: 1; stroke-width: 0.666667px; fill: none\"/><polyline points=\"133.333333,235.976614 133.333333,229.309947\" style=\"stroke: rgb(0.000000%, 0.000000%, 0.000000%); stroke-opacity: 1; stroke-width: 0.666667px; fill: none\"/><polyline points=\"200.000000,235.976614 200.000000,229.309947\" style=\"stroke: rgb(0.000000%, 0.000000%, 0.000000%); stroke-opacity: 1; stroke-width: 0.666667px; fill: none\"/><polyline points=\"266.666667,235.976614 266.666667,229.309947\" style=\"stroke: rgb(0.000000%, 0.000000%, 0.000000%); stroke-opacity: 1; stroke-width: 0.666667px; fill: none\"/><polyline points=\"333.333333,235.976614 333.333333,229.309947\" style=\"stroke: rgb(0.000000%, 0.000000%, 0.000000%); stroke-opacity: 1; stroke-width: 0.666667px; fill: none\"/><polyline points=\"400.000000,235.976614 400.000000,229.309947\" style=\"stroke: rgb(0.000000%, 0.000000%, 0.000000%); stroke-opacity: 1; stroke-width: 0.666667px; fill: none\"/><polyline points=\"13.333333,235.976614 13.333333,231.976614\" style=\"stroke: rgb(0.000000%, 0.000000%, 0.000000%); stroke-opacity: 1; stroke-width: 0.666667px; fill: none\"/><polyline points=\"26.666667,235.976614 26.666667,231.976614\" style=\"stroke: rgb(0.000000%, 0.000000%, 0.000000%); stroke-opacity: 1; stroke-width: 0.666667px; fill: none\"/><polyline points=\"40.000000,235.976614 40.000000,231.976614\" style=\"stroke: rgb(0.000000%, 0.000000%, 0.000000%); stroke-opacity: 1; stroke-width: 0.666667px; fill: none\"/><polyline points=\"53.333333,235.976614 53.333333,231.976614\" style=\"stroke: rgb(0.000000%, 0.000000%, 0.000000%); stroke-opacity: 1; stroke-width: 0.666667px; fill: none\"/><polyline points=\"80.000000,235.976614 80.000000,231.976614\" style=\"stroke: rgb(0.000000%, 0.000000%, 0.000000%); stroke-opacity: 1; stroke-width: 0.666667px; fill: none\"/><polyline points=\"93.333333,235.976614 93.333333,231.976614\" style=\"stroke: rgb(0.000000%, 0.000000%, 0.000000%); stroke-opacity: 1; stroke-width: 0.666667px; fill: none\"/><polyline points=\"106.666667,235.976614 106.666667,231.976614\" style=\"stroke: rgb(0.000000%, 0.000000%, 0.000000%); stroke-opacity: 1; stroke-width: 0.666667px; fill: none\"/><polyline points=\"120.000000,235.976614 120.000000,231.976614\" style=\"stroke: rgb(0.000000%, 0.000000%, 0.000000%); stroke-opacity: 1; stroke-width: 0.666667px; fill: none\"/><polyline points=\"146.666667,235.976614 146.666667,231.976614\" style=\"stroke: rgb(0.000000%, 0.000000%, 0.000000%); stroke-opacity: 1; stroke-width: 0.666667px; fill: none\"/><polyline points=\"160.000000,235.976614 160.000000,231.976614\" style=\"stroke: rgb(0.000000%, 0.000000%, 0.000000%); stroke-opacity: 1; stroke-width: 0.666667px; fill: none\"/><polyline points=\"173.333333,235.976614 173.333333,231.976614\" style=\"stroke: rgb(0.000000%, 0.000000%, 0.000000%); stroke-opacity: 1; stroke-width: 0.666667px; fill: none\"/><polyline points=\"186.666667,235.976614 186.666667,231.976614\" style=\"stroke: rgb(0.000000%, 0.000000%, 0.000000%); stroke-opacity: 1; stroke-width: 0.666667px; fill: none\"/><polyline points=\"213.333333,235.976614 213.333333,231.976614\" style=\"stroke: rgb(0.000000%, 0.000000%, 0.000000%); stroke-opacity: 1; stroke-width: 0.666667px; fill: none\"/><polyline points=\"226.666667,235.976614 226.666667,231.976614\" style=\"stroke: rgb(0.000000%, 0.000000%, 0.000000%); stroke-opacity: 1; stroke-width: 0.666667px; fill: none\"/><polyline points=\"240.000000,235.976614 240.000000,231.976614\" style=\"stroke: rgb(0.000000%, 0.000000%, 0.000000%); stroke-opacity: 1; stroke-width: 0.666667px; fill: none\"/><polyline points=\"253.333333,235.976614 253.333333,231.976614\" style=\"stroke: rgb(0.000000%, 0.000000%, 0.000000%); stroke-opacity: 1; stroke-width: 0.666667px; fill: none\"/><polyline points=\"280.000000,235.976614 280.000000,231.976614\" style=\"stroke: rgb(0.000000%, 0.000000%, 0.000000%); stroke-opacity: 1; stroke-width: 0.666667px; fill: none\"/><polyline points=\"293.333333,235.976614 293.333333,231.976614\" style=\"stroke: rgb(0.000000%, 0.000000%, 0.000000%); stroke-opacity: 1; stroke-width: 0.666667px; fill: none\"/><polyline points=\"306.666667,235.976614 306.666667,231.976614\" style=\"stroke: rgb(0.000000%, 0.000000%, 0.000000%); stroke-opacity: 1; stroke-width: 0.666667px; fill: none\"/><polyline points=\"320.000000,235.976614 320.000000,231.976614\" style=\"stroke: rgb(0.000000%, 0.000000%, 0.000000%); stroke-opacity: 1; stroke-width: 0.666667px; fill: none\"/><polyline points=\"346.666667,235.976614 346.666667,231.976614\" style=\"stroke: rgb(0.000000%, 0.000000%, 0.000000%); stroke-opacity: 1; stroke-width: 0.666667px; fill: none\"/><polyline points=\"360.000000,235.976614 360.000000,231.976614\" style=\"stroke: rgb(0.000000%, 0.000000%, 0.000000%); stroke-opacity: 1; stroke-width: 0.666667px; fill: none\"/><polyline points=\"373.333333,235.976614 373.333333,231.976614\" style=\"stroke: rgb(0.000000%, 0.000000%, 0.000000%); stroke-opacity: 1; stroke-width: 0.666667px; fill: none\"/><polyline points=\"386.666667,235.976614 386.666667,231.976614\" style=\"stroke: rgb(0.000000%, 0.000000%, 0.000000%); stroke-opacity: 1; stroke-width: 0.666667px; fill: none\"/>\n",
       "<polyline points=\"0.000000,260.157867 0.000000,-12.944272\" style=\"stroke: rgb(0.000000%, 0.000000%, 0.000000%); stroke-opacity: 1; stroke-width: 0.666667px; fill: none\"/>\n",
       "<foreignObject ox=\"1.000000\" oy=\"0.000000\" style=\"stroke: none; fill: none; color: rgb(0.000000%, 0.000000%, 0.000000%)\" x=\"-2.666667\" y=\"182.266548\"><math><mn>2.</mn></math></foreignObject>\n",
       "<foreignObject ox=\"1.000000\" oy=\"0.000000\" style=\"stroke: none; fill: none; color: rgb(0.000000%, 0.000000%, 0.000000%)\" x=\"-2.666667\" y=\"128.556482\"><math><mn>4.</mn></math></foreignObject>\n",
       "<foreignObject ox=\"1.000000\" oy=\"0.000000\" style=\"stroke: none; fill: none; color: rgb(0.000000%, 0.000000%, 0.000000%)\" x=\"-2.666667\" y=\"74.846416\"><math><mn>6.</mn></math></foreignObject>\n",
       "<foreignObject ox=\"1.000000\" oy=\"0.000000\" style=\"stroke: none; fill: none; color: rgb(0.000000%, 0.000000%, 0.000000%)\" x=\"-2.666667\" y=\"21.136350\"><math><mn>8.</mn></math></foreignObject>\n",
       "<polyline points=\"0.000000,182.266548 6.666667,182.266548\" style=\"stroke: rgb(0.000000%, 0.000000%, 0.000000%); stroke-opacity: 1; stroke-width: 0.666667px; fill: none\"/><polyline points=\"0.000000,128.556482 6.666667,128.556482\" style=\"stroke: rgb(0.000000%, 0.000000%, 0.000000%); stroke-opacity: 1; stroke-width: 0.666667px; fill: none\"/><polyline points=\"0.000000,74.846416 6.666667,74.846416\" style=\"stroke: rgb(0.000000%, 0.000000%, 0.000000%); stroke-opacity: 1; stroke-width: 0.666667px; fill: none\"/><polyline points=\"0.000000,21.136350 6.666667,21.136350\" style=\"stroke: rgb(0.000000%, 0.000000%, 0.000000%); stroke-opacity: 1; stroke-width: 0.666667px; fill: none\"/><polyline points=\"0.000000,249.404130 4.000000,249.404130\" style=\"stroke: rgb(0.000000%, 0.000000%, 0.000000%); stroke-opacity: 1; stroke-width: 0.666667px; fill: none\"/><polyline points=\"0.000000,222.549097 4.000000,222.549097\" style=\"stroke: rgb(0.000000%, 0.000000%, 0.000000%); stroke-opacity: 1; stroke-width: 0.666667px; fill: none\"/><polyline points=\"0.000000,209.121581 4.000000,209.121581\" style=\"stroke: rgb(0.000000%, 0.000000%, 0.000000%); stroke-opacity: 1; stroke-width: 0.666667px; fill: none\"/><polyline points=\"0.000000,195.694064 4.000000,195.694064\" style=\"stroke: rgb(0.000000%, 0.000000%, 0.000000%); stroke-opacity: 1; stroke-width: 0.666667px; fill: none\"/><polyline points=\"0.000000,168.839031 4.000000,168.839031\" style=\"stroke: rgb(0.000000%, 0.000000%, 0.000000%); stroke-opacity: 1; stroke-width: 0.666667px; fill: none\"/><polyline points=\"0.000000,155.411515 4.000000,155.411515\" style=\"stroke: rgb(0.000000%, 0.000000%, 0.000000%); stroke-opacity: 1; stroke-width: 0.666667px; fill: none\"/><polyline points=\"0.000000,141.983998 4.000000,141.983998\" style=\"stroke: rgb(0.000000%, 0.000000%, 0.000000%); stroke-opacity: 1; stroke-width: 0.666667px; fill: none\"/><polyline points=\"0.000000,115.128965 4.000000,115.128965\" style=\"stroke: rgb(0.000000%, 0.000000%, 0.000000%); stroke-opacity: 1; stroke-width: 0.666667px; fill: none\"/><polyline points=\"0.000000,101.701449 4.000000,101.701449\" style=\"stroke: rgb(0.000000%, 0.000000%, 0.000000%); stroke-opacity: 1; stroke-width: 0.666667px; fill: none\"/><polyline points=\"0.000000,88.273932 4.000000,88.273932\" style=\"stroke: rgb(0.000000%, 0.000000%, 0.000000%); stroke-opacity: 1; stroke-width: 0.666667px; fill: none\"/><polyline points=\"0.000000,61.418899 4.000000,61.418899\" style=\"stroke: rgb(0.000000%, 0.000000%, 0.000000%); stroke-opacity: 1; stroke-width: 0.666667px; fill: none\"/><polyline points=\"0.000000,47.991383 4.000000,47.991383\" style=\"stroke: rgb(0.000000%, 0.000000%, 0.000000%); stroke-opacity: 1; stroke-width: 0.666667px; fill: none\"/><polyline points=\"0.000000,34.563866 4.000000,34.563866\" style=\"stroke: rgb(0.000000%, 0.000000%, 0.000000%); stroke-opacity: 1; stroke-width: 0.666667px; fill: none\"/><polyline points=\"0.000000,7.708833 4.000000,7.708833\" style=\"stroke: rgb(0.000000%, 0.000000%, 0.000000%); stroke-opacity: 1; stroke-width: 0.666667px; fill: none\"/></svg>"
      ],
      "text/plain": [
       "<IPython.core.display.SVG object>"
      ]
     },
     "metadata": {},
     "output_type": "display_data"
    },
    {
     "data": {
      "text/plain": [
       "\u001b[39m['svg:/tmp/tmpV3XE2L/session-figure9.svg', '- graphic -']\u001b[32m"
      ]
     },
     "execution_count": 8,
     "metadata": {},
     "output_type": "execute_result"
    }
   ],
   "source": [
    "Plot[x^2,{x,0,3}]"
   ]
  },
  {
   "cell_type": "code",
   "execution_count": 9,
   "metadata": {
    "collapsed": false
   },
   "outputs": [
    {
     "data": {
      "image/png": "/tmp/tmpV3XE2L/session-figure10.jpg",
      "text/plain": [
       "<IPython.core.display.Image object>"
      ]
     },
     "metadata": {},
     "output_type": "display_data"
    },
    {
     "data": {
      "text/plain": [
       "\u001b[39m['image:/tmp/tmpV3XE2L/session-figure10.jpg', '- graphic3d -']\u001b[32m"
      ]
     },
     "execution_count": 9,
     "metadata": {},
     "output_type": "execute_result"
    }
   ],
   "source": [
    "Plot3D[Sin[x*y],{x,0,3},{y,0,3}]"
   ]
  },
  {
   "cell_type": "code",
   "execution_count": null,
   "metadata": {
    "collapsed": true
   },
   "outputs": [],
   "source": []
  }
 ],
 "metadata": {
  "kernelspec": {
   "display_name": "Mathics",
   "language": "",
   "name": "mathics_kernel"
  },
  "language_info": {
   "exec": "mathics",
   "file_extension": ".m",
   "help_links": [
    {
     "text": "MetaKernel Magics",
     "url": "https://github.com/calysto/metakernel/blob/master/metakernel/magics/README.md"
    }
   ],
   "mimetype": "text/x-mathics",
   "name": "mathics_kernel"
  }
 },
 "nbformat": 4,
 "nbformat_minor": 0
}
